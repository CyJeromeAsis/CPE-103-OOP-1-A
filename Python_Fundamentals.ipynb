{
  "nbformat": 4,
  "nbformat_minor": 0,
  "metadata": {
    "colab": {
      "provenance": [],
      "authorship_tag": "ABX9TyPw17V98UKBIg4LIx6HrbVt",
      "include_colab_link": true
    },
    "kernelspec": {
      "name": "python3",
      "display_name": "Python 3"
    },
    "language_info": {
      "name": "python"
    }
  },
  "cells": [
    {
      "cell_type": "markdown",
      "metadata": {
        "id": "view-in-github",
        "colab_type": "text"
      },
      "source": [
        "<a href=\"https://colab.research.google.com/github/CyJeromeAsis/CPE-103-OOP-1-A/blob/main/Python_Fundamentals.ipynb\" target=\"_parent\"><img src=\"https://colab.research.google.com/assets/colab-badge.svg\" alt=\"Open In Colab\"/></a>"
      ]
    },
    {
      "cell_type": "markdown",
      "source": [
        "Phython Indentation"
      ],
      "metadata": {
        "id": "g6eKy85FFhJt"
      }
    },
    {
      "cell_type": "code",
      "source": [
        "  if 5 > 2:\n",
        "    print (\"Five is greater than two!\")"
      ],
      "metadata": {
        "colab": {
          "base_uri": "https://localhost:8080/"
        },
        "id": "_t9QSpdHF06k",
        "outputId": "54855dae-b706-4897-ec00-90de1fd7bf14"
      },
      "execution_count": 3,
      "outputs": [
        {
          "output_type": "stream",
          "name": "stdout",
          "text": [
            "Five is greater than two!\n"
          ]
        }
      ]
    },
    {
      "cell_type": "markdown",
      "source": [
        "Phython Comments"
      ],
      "metadata": {
        "id": "iKJkUTWvIp2l"
      }
    },
    {
      "cell_type": "code",
      "source": [
        "#This is a comment\n",
        "print (\"Hello world!\")"
      ],
      "metadata": {
        "colab": {
          "base_uri": "https://localhost:8080/"
        },
        "id": "rABegAVSIsEu",
        "outputId": "b5914fbd-b6ca-41f8-ad8d-9723d1141d12"
      },
      "execution_count": 56,
      "outputs": [
        {
          "output_type": "stream",
          "name": "stdout",
          "text": [
            "Hello world!\n"
          ]
        }
      ]
    },
    {
      "cell_type": "markdown",
      "source": [
        "Variable Naming Convention :\n",
        "Phython Variable"
      ],
      "metadata": {
        "id": "o3IxB6-7KWRE"
      }
    },
    {
      "cell_type": "code",
      "source": [
        "z = 1\n",
        "a,b = 0, -1\n",
        "a,b = 0, -1\n",
        "c = \"Sally\"\n",
        "print (a)\n",
        "print (b)\n",
        "print (z)\n",
        "print (c)"
      ],
      "metadata": {
        "colab": {
          "base_uri": "https://localhost:8080/"
        },
        "id": "lHZ1efdAKisE",
        "outputId": "5026df1b-8d24-4ab2-cd6a-da359fbd5f61"
      },
      "execution_count": 11,
      "outputs": [
        {
          "output_type": "stream",
          "name": "stdout",
          "text": [
            "0\n",
            "-1\n",
            "1\n",
            "Sally\n"
          ]
        }
      ]
    },
    {
      "cell_type": "markdown",
      "source": [
        "Variable Naming Convention : Casting"
      ],
      "metadata": {
        "id": "N9dqTEuJMAoV"
      }
    },
    {
      "cell_type": "code",
      "source": [
        "b = \"Sally\" #This is a string\n",
        "b = int (4)\n",
        "b = float (4)\n",
        "print (b)"
      ],
      "metadata": {
        "colab": {
          "base_uri": "https://localhost:8080/"
        },
        "id": "Yl-HjrnvMG1d",
        "outputId": "39de4649-4907-489e-d336-e9d832b44775"
      },
      "execution_count": 15,
      "outputs": [
        {
          "output_type": "stream",
          "name": "stdout",
          "text": [
            "4.0\n"
          ]
        }
      ]
    },
    {
      "cell_type": "markdown",
      "source": [
        "Type () Function"
      ],
      "metadata": {
        "id": "5XcFpWJINCMF"
      }
    },
    {
      "cell_type": "code",
      "source": [
        "x = 5\n",
        "y = \"John\"\n",
        "z = float (4)\n",
        "print (type(x))\n",
        "print (type(y))\n",
        "print (type(z))"
      ],
      "metadata": {
        "colab": {
          "base_uri": "https://localhost:8080/"
        },
        "id": "19nTL8jING9G",
        "outputId": "149135bd-d7e9-4555-a76e-0130df7385b1"
      },
      "execution_count": 17,
      "outputs": [
        {
          "output_type": "stream",
          "name": "stdout",
          "text": [
            "<class 'int'>\n",
            "<class 'str'>\n",
            "<class 'float'>\n"
          ]
        }
      ]
    },
    {
      "cell_type": "markdown",
      "source": [
        "\"Double Quotes\" or 'Single' Quotes"
      ],
      "metadata": {
        "id": "QptRxcdXN3It"
      }
    },
    {
      "cell_type": "code",
      "source": [
        "x = \"John\"\n",
        "y = 'John'\n",
        "print (x)\n",
        "print (y)"
      ],
      "metadata": {
        "colab": {
          "base_uri": "https://localhost:8080/"
        },
        "id": "FrjX3x41OCpV",
        "outputId": "73e61768-fa54-4895-b04b-dfc870a813cc"
      },
      "execution_count": 19,
      "outputs": [
        {
          "output_type": "stream",
          "name": "stdout",
          "text": [
            "John\n",
            "John\n"
          ]
        }
      ]
    },
    {
      "cell_type": "markdown",
      "source": [
        "Case Sensitive"
      ],
      "metadata": {
        "id": "Sh-hYT2POafd"
      }
    },
    {
      "cell_type": "code",
      "source": [
        "a = 4\n",
        "A = 'Sally'\n",
        "#A will not overwrite a\n",
        "print (a)\n",
        "print (A)"
      ],
      "metadata": {
        "colab": {
          "base_uri": "https://localhost:8080/"
        },
        "id": "lejgAeNTOdcV",
        "outputId": "27fc96a9-981d-46b3-b857-d69f2cf1b709"
      },
      "execution_count": 20,
      "outputs": [
        {
          "output_type": "stream",
          "name": "stdout",
          "text": [
            "4\n",
            "Sally\n"
          ]
        }
      ]
    },
    {
      "cell_type": "markdown",
      "source": [
        "Multiple Variables"
      ],
      "metadata": {
        "id": "TzRlp9wNOykW"
      }
    },
    {
      "cell_type": "code",
      "source": [
        "x, y, z = 'one' , 'two' , 'Three'\n",
        "print (x)\n",
        "print (y)\n",
        "print (z)"
      ],
      "metadata": {
        "colab": {
          "base_uri": "https://localhost:8080/"
        },
        "id": "4s4v1EpBO059",
        "outputId": "b3bf5a9b-573a-4f87-c611-a561e469faa0"
      },
      "execution_count": 21,
      "outputs": [
        {
          "output_type": "stream",
          "name": "stdout",
          "text": [
            "one\n",
            "two\n",
            "Three\n"
          ]
        }
      ]
    },
    {
      "cell_type": "markdown",
      "source": [
        "One Value Multiple Variable"
      ],
      "metadata": {
        "id": "WpdmsWjzPH5d"
      }
    },
    {
      "cell_type": "code",
      "source": [
        "x = y = z = 'four'\n",
        "print (x)\n",
        "print (y)\n",
        "print (z)"
      ],
      "metadata": {
        "colab": {
          "base_uri": "https://localhost:8080/"
        },
        "id": "UKYx4XhAPKj9",
        "outputId": "5efb50c8-483b-4faa-b51e-1655d5ce0877"
      },
      "execution_count": 22,
      "outputs": [
        {
          "output_type": "stream",
          "name": "stdout",
          "text": [
            "four\n",
            "four\n",
            "four\n"
          ]
        }
      ]
    },
    {
      "cell_type": "markdown",
      "source": [
        "Output Variable"
      ],
      "metadata": {
        "id": "MFBOO2-PP1qW"
      }
    },
    {
      "cell_type": "code",
      "source": [
        "x = 'enjoying'\n",
        "print ('Python programming is ' + x)"
      ],
      "metadata": {
        "colab": {
          "base_uri": "https://localhost:8080/"
        },
        "id": "iEOZDGwdP3cF",
        "outputId": "1b023fcb-3f6f-43b1-8111-eb2ce3e052f2"
      },
      "execution_count": 26,
      "outputs": [
        {
          "output_type": "stream",
          "name": "stdout",
          "text": [
            "Python programming is enjoying\n"
          ]
        }
      ]
    },
    {
      "cell_type": "code",
      "source": [
        "x = ' Python is '\n",
        "y = 'enjoying'\n",
        "print (x + y)"
      ],
      "metadata": {
        "colab": {
          "base_uri": "https://localhost:8080/"
        },
        "id": "kbCZAnRQQZbc",
        "outputId": "e7fe10ba-daab-4ab6-f899-0fe7a54d6efb"
      },
      "execution_count": 27,
      "outputs": [
        {
          "output_type": "stream",
          "name": "stdout",
          "text": [
            " Python is enjoying\n"
          ]
        }
      ]
    },
    {
      "cell_type": "markdown",
      "source": [
        "Arithmetic Operations"
      ],
      "metadata": {
        "id": "5zPMpwAiQvws"
      }
    },
    {
      "cell_type": "code",
      "source": [
        "x = 8\n",
        "y = 3\n",
        "print (x**2) #Exponentiation\n",
        "print (x/y) #Division\n",
        "print (x//y) #Floor Division\n",
        "print (x%y) #Modulo\n"
      ],
      "metadata": {
        "colab": {
          "base_uri": "https://localhost:8080/"
        },
        "id": "0K5MnyFnQz_1",
        "outputId": "e62eaea4-336e-46a0-9b5a-75995d3c5b11"
      },
      "execution_count": 28,
      "outputs": [
        {
          "output_type": "stream",
          "name": "stdout",
          "text": [
            "64\n",
            "2.6666666666666665\n",
            "2\n",
            "2\n"
          ]
        }
      ]
    },
    {
      "cell_type": "markdown",
      "source": [
        "Assignment Operators"
      ],
      "metadata": {
        "id": "wiBaq27nSBLm"
      }
    },
    {
      "cell_type": "code",
      "source": [
        "x = 3\n",
        "x*= 3 #x = x * 3\n",
        "print (x)"
      ],
      "metadata": {
        "colab": {
          "base_uri": "https://localhost:8080/"
        },
        "id": "cinAQpHtSD-d",
        "outputId": "47f92642-9e36-46df-c88f-ec1748fcc047"
      },
      "execution_count": 29,
      "outputs": [
        {
          "output_type": "stream",
          "name": "stdout",
          "text": [
            "9\n"
          ]
        }
      ]
    },
    {
      "cell_type": "markdown",
      "source": [
        "Comparison Operators"
      ],
      "metadata": {
        "id": "YDrx5gCeStxG"
      }
    },
    {
      "cell_type": "code",
      "source": [
        "x = 4\n",
        "y = 2\n",
        "print (x>=y)"
      ],
      "metadata": {
        "colab": {
          "base_uri": "https://localhost:8080/"
        },
        "id": "De_6CYK9SxcV",
        "outputId": "f185dbe4-72c4-44eb-fc22-dccb998268fc"
      },
      "execution_count": 33,
      "outputs": [
        {
          "output_type": "stream",
          "name": "stdout",
          "text": [
            "True\n"
          ]
        }
      ]
    },
    {
      "cell_type": "markdown",
      "source": [
        "Logical Operators"
      ],
      "metadata": {
        "id": "-l4IXQt-TNU_"
      }
    },
    {
      "cell_type": "code",
      "source": [
        "x = 4\n",
        "y = 2\n",
        "not(x>=y)"
      ],
      "metadata": {
        "colab": {
          "base_uri": "https://localhost:8080/"
        },
        "id": "vSmcQyzITP72",
        "outputId": "f77e9b9d-102f-4ef4-d810-c71be6db660d"
      },
      "execution_count": 36,
      "outputs": [
        {
          "output_type": "execute_result",
          "data": {
            "text/plain": [
              "False"
            ]
          },
          "metadata": {},
          "execution_count": 36
        }
      ]
    },
    {
      "cell_type": "markdown",
      "source": [
        "Bitwise Operators"
      ],
      "metadata": {
        "id": "J60AQPUPUhdn"
      }
    },
    {
      "cell_type": "code",
      "source": [
        "#decimal to binary\n",
        "# 10 = 1010\n",
        "x = 10\n",
        "print (x>>2)\n"
      ],
      "metadata": {
        "colab": {
          "base_uri": "https://localhost:8080/"
        },
        "id": "6PdnJEbDUkl-",
        "outputId": "72f7dca9-8afc-4b8b-f938-d54e36f9236e"
      },
      "execution_count": 55,
      "outputs": [
        {
          "output_type": "stream",
          "name": "stdout",
          "text": [
            "2\n"
          ]
        }
      ]
    },
    {
      "cell_type": "markdown",
      "source": [
        "Application 1"
      ],
      "metadata": {
        "id": "OjviTIQ-YS3f"
      }
    },
    {
      "cell_type": "code",
      "source": [
        "#Area of rectangle\n",
        "\n",
        "b = input() #b = length\n",
        "h = input() #h = height\n",
        "\n",
        "area = int(b) * int(h)\n",
        "print (area)"
      ],
      "metadata": {
        "colab": {
          "base_uri": "https://localhost:8080/"
        },
        "id": "1Hyi8tCkbYbH",
        "outputId": "edf9eab2-6af5-4591-cbb8-26262c52407c"
      },
      "execution_count": 73,
      "outputs": [
        {
          "output_type": "stream",
          "name": "stdout",
          "text": [
            "4\n",
            "5\n",
            "20\n"
          ]
        }
      ]
    },
    {
      "cell_type": "code",
      "source": [
        "#Area of square\n",
        "\n",
        "s = input () #s = side\n",
        "\n",
        "area = int(x) * int(x)\n",
        "print (area)"
      ],
      "metadata": {
        "colab": {
          "base_uri": "https://localhost:8080/"
        },
        "id": "vTRceqlgb1mf",
        "outputId": "7c85af74-43ea-4566-cbd6-8b26a625c82f"
      },
      "execution_count": 74,
      "outputs": [
        {
          "output_type": "stream",
          "name": "stdout",
          "text": [
            "4\n",
            "16\n"
          ]
        }
      ]
    },
    {
      "cell_type": "code",
      "source": [
        "#Area of circle\n",
        "\n",
        "r = input() #r = radius\n",
        "pi = 3.1416\n",
        "\n",
        "area = pi * int(r) * int(r)\n",
        "print (area)\n"
      ],
      "metadata": {
        "colab": {
          "base_uri": "https://localhost:8080/"
        },
        "id": "8hFdloyEcWJs",
        "outputId": "c0afa9e8-0fa4-43a4-e59a-f4463b3d39cd"
      },
      "execution_count": 76,
      "outputs": [
        {
          "output_type": "stream",
          "name": "stdout",
          "text": [
            "12\n",
            "452.3904\n"
          ]
        }
      ]
    }
  ]
}