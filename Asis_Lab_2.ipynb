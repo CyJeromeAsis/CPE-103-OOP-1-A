{
  "nbformat": 4,
  "nbformat_minor": 0,
  "metadata": {
    "colab": {
      "provenance": []
    },
    "kernelspec": {
      "name": "python3",
      "display_name": "Python 3"
    },
    "language_info": {
      "name": "python"
    }
  },
  "cells": [
    {
      "cell_type": "markdown",
      "source": [
        "**Assigning variables of different data types in Python**"
      ],
      "metadata": {
        "id": "xgJPQa9k2xL-"
      }
    },
    {
      "cell_type": "code",
      "execution_count": null,
      "metadata": {
        "id": "6wTkDaxeu-gW",
        "colab": {
          "base_uri": "https://localhost:8080/"
        },
        "outputId": "dd6db145-b173-48b2-9121-b187965d58b7"
      },
      "outputs": [
        {
          "output_type": "stream",
          "name": "stdout",
          "text": [
            "5\n"
          ]
        }
      ],
      "source": [
        "value = 5\n",
        "print (value)"
      ]
    },
    {
      "cell_type": "code",
      "source": [
        "type (value)"
      ],
      "metadata": {
        "colab": {
          "base_uri": "https://localhost:8080/"
        },
        "id": "TyHvPihQ3v_Q",
        "outputId": "e6cfa8ee-f963-4a67-f04f-b1c8b2b80922"
      },
      "execution_count": null,
      "outputs": [
        {
          "output_type": "execute_result",
          "data": {
            "text/plain": [
              "int"
            ]
          },
          "metadata": {},
          "execution_count": 2
        }
      ]
    },
    {
      "cell_type": "code",
      "source": [
        "value = 5.0\n",
        "print (value)"
      ],
      "metadata": {
        "colab": {
          "base_uri": "https://localhost:8080/"
        },
        "id": "eEeBVMD04e4E",
        "outputId": "c643600f-05c3-40b9-cbf5-ce1875bb75b9"
      },
      "execution_count": null,
      "outputs": [
        {
          "output_type": "stream",
          "name": "stdout",
          "text": [
            "5.0\n"
          ]
        }
      ]
    },
    {
      "cell_type": "code",
      "source": [
        "type (value)"
      ],
      "metadata": {
        "colab": {
          "base_uri": "https://localhost:8080/"
        },
        "id": "SkirPL5i4jSp",
        "outputId": "57c0c0cd-e335-4531-83c4-55b020b80c9d"
      },
      "execution_count": null,
      "outputs": [
        {
          "output_type": "execute_result",
          "data": {
            "text/plain": [
              "float"
            ]
          },
          "metadata": {},
          "execution_count": 8
        }
      ]
    },
    {
      "cell_type": "code",
      "source": [
        "value = 2+3j\n",
        "print (value)"
      ],
      "metadata": {
        "colab": {
          "base_uri": "https://localhost:8080/"
        },
        "id": "gmQborOZ390-",
        "outputId": "faae4c7e-14ca-4361-af11-66dcb8a33568"
      },
      "execution_count": null,
      "outputs": [
        {
          "output_type": "stream",
          "name": "stdout",
          "text": [
            "(2+3j)\n"
          ]
        }
      ]
    },
    {
      "cell_type": "code",
      "source": [
        "type (value)"
      ],
      "metadata": {
        "colab": {
          "base_uri": "https://localhost:8080/"
        },
        "id": "Mp7KQ4d94RBo",
        "outputId": "03a49670-b512-4ac4-9914-497cd285c03a"
      },
      "execution_count": null,
      "outputs": [
        {
          "output_type": "execute_result",
          "data": {
            "text/plain": [
              "complex"
            ]
          },
          "metadata": {},
          "execution_count": 4
        }
      ]
    },
    {
      "cell_type": "code",
      "source": [
        "value = 'Hello World'\n",
        "print (value)"
      ],
      "metadata": {
        "colab": {
          "base_uri": "https://localhost:8080/"
        },
        "id": "why5hUc94-3n",
        "outputId": "cf4cedaa-d8b0-41da-e55c-85252c880953"
      },
      "execution_count": null,
      "outputs": [
        {
          "output_type": "stream",
          "name": "stdout",
          "text": [
            "Hello World\n"
          ]
        }
      ]
    },
    {
      "cell_type": "code",
      "source": [
        "type (value)"
      ],
      "metadata": {
        "colab": {
          "base_uri": "https://localhost:8080/"
        },
        "id": "peIVw9uT5IqM",
        "outputId": "c8d73385-5edd-4d96-b6a3-cbd7e9292d80"
      },
      "execution_count": null,
      "outputs": [
        {
          "output_type": "execute_result",
          "data": {
            "text/plain": [
              "str"
            ]
          },
          "metadata": {},
          "execution_count": 12
        }
      ]
    },
    {
      "cell_type": "code",
      "source": [
        "value = \"Hello World\"\n",
        "print (value)"
      ],
      "metadata": {
        "colab": {
          "base_uri": "https://localhost:8080/"
        },
        "id": "PulpfLru5jTQ",
        "outputId": "83230e74-fd5f-4274-a4cd-4f40b1e4a846"
      },
      "execution_count": null,
      "outputs": [
        {
          "output_type": "stream",
          "name": "stdout",
          "text": [
            "Hello World\n"
          ]
        }
      ]
    },
    {
      "cell_type": "code",
      "source": [
        "type (value)"
      ],
      "metadata": {
        "colab": {
          "base_uri": "https://localhost:8080/"
        },
        "id": "zQaLj5o_5n2M",
        "outputId": "0ad93b76-9221-4323-bdc6-30f887a298d9"
      },
      "execution_count": null,
      "outputs": [
        {
          "output_type": "execute_result",
          "data": {
            "text/plain": [
              "str"
            ]
          },
          "metadata": {},
          "execution_count": 14
        }
      ]
    },
    {
      "cell_type": "code",
      "source": [
        "value = True\n",
        "print (value)"
      ],
      "metadata": {
        "colab": {
          "base_uri": "https://localhost:8080/"
        },
        "id": "pDN2uRpp5xG-",
        "outputId": "bf4097a0-0657-445c-acb1-caa65e5560cf"
      },
      "execution_count": null,
      "outputs": [
        {
          "output_type": "stream",
          "name": "stdout",
          "text": [
            "True\n"
          ]
        }
      ]
    },
    {
      "cell_type": "code",
      "source": [
        "type (value)"
      ],
      "metadata": {
        "colab": {
          "base_uri": "https://localhost:8080/"
        },
        "id": "FGWWvys86JlE",
        "outputId": "20ea80c6-c368-4df5-bc92-375838be08e5"
      },
      "execution_count": null,
      "outputs": [
        {
          "output_type": "execute_result",
          "data": {
            "text/plain": [
              "bool"
            ]
          },
          "metadata": {},
          "execution_count": 18
        }
      ]
    },
    {
      "cell_type": "code",
      "source": [
        "value = False\n",
        "print (value)"
      ],
      "metadata": {
        "colab": {
          "base_uri": "https://localhost:8080/"
        },
        "id": "7kN9kJcQ6Mi-",
        "outputId": "412feb1b-e290-4b68-b56b-45357f001b5b"
      },
      "execution_count": null,
      "outputs": [
        {
          "output_type": "stream",
          "name": "stdout",
          "text": [
            "False\n"
          ]
        }
      ]
    },
    {
      "cell_type": "code",
      "source": [
        "type (value)"
      ],
      "metadata": {
        "colab": {
          "base_uri": "https://localhost:8080/"
        },
        "id": "yjMh073N6Q-2",
        "outputId": "176e5ce1-cdf7-4726-e00b-69efecd912f4"
      },
      "execution_count": null,
      "outputs": [
        {
          "data": {
            "text/plain": [
              "bool"
            ]
          },
          "execution_count": 20,
          "metadata": {},
          "output_type": "execute_result"
        }
      ]
    },
    {
      "cell_type": "code",
      "source": [
        "value = [1,2,3,4,5]\n",
        "print (value)"
      ],
      "metadata": {
        "colab": {
          "base_uri": "https://localhost:8080/"
        },
        "id": "r401Youo6UUj",
        "outputId": "fc20f8e3-1820-4976-d66e-3d61c15d0b83"
      },
      "execution_count": null,
      "outputs": [
        {
          "output_type": "stream",
          "name": "stdout",
          "text": [
            "[1, 2, 3, 4, 5]\n"
          ]
        }
      ]
    },
    {
      "cell_type": "code",
      "source": [
        "type (value)"
      ],
      "metadata": {
        "colab": {
          "base_uri": "https://localhost:8080/"
        },
        "id": "tGVD_w_K6mP_",
        "outputId": "fff6a2bb-5cd7-4039-f96c-8683fc29b02f"
      },
      "execution_count": null,
      "outputs": [
        {
          "output_type": "execute_result",
          "data": {
            "text/plain": [
              "list"
            ]
          },
          "metadata": {},
          "execution_count": 22
        }
      ]
    },
    {
      "cell_type": "code",
      "source": [
        "value = (1,2,3,4,5)\n",
        "print (value)"
      ],
      "metadata": {
        "colab": {
          "base_uri": "https://localhost:8080/"
        },
        "id": "Vm95Gxgc6q31",
        "outputId": "3690cdc3-a94e-4694-ff6d-cd9db8f5124d"
      },
      "execution_count": null,
      "outputs": [
        {
          "output_type": "stream",
          "name": "stdout",
          "text": [
            "(1, 2, 3, 4, 5)\n"
          ]
        }
      ]
    },
    {
      "cell_type": "code",
      "source": [
        "value = { 'name': 'Cy_Jerome_Asis'}\n",
        "print (value)"
      ],
      "metadata": {
        "colab": {
          "base_uri": "https://localhost:8080/"
        },
        "id": "bdx6dzdr61Hv",
        "outputId": "90847b74-3dd1-4827-c2a6-7d0d04b43ad6"
      },
      "execution_count": null,
      "outputs": [
        {
          "output_type": "stream",
          "name": "stdout",
          "text": [
            "{'name': 'Cy_Jerome_Asis'}\n"
          ]
        }
      ]
    },
    {
      "cell_type": "code",
      "source": [
        "type (value)"
      ],
      "metadata": {
        "colab": {
          "base_uri": "https://localhost:8080/"
        },
        "id": "09dc_xm57Q24",
        "outputId": "fa0267ba-ee67-41d3-cc4a-f4e1ccfc4972"
      },
      "execution_count": null,
      "outputs": [
        {
          "output_type": "execute_result",
          "data": {
            "text/plain": [
              "dict"
            ]
          },
          "metadata": {},
          "execution_count": 25
        }
      ]
    },
    {
      "cell_type": "code",
      "source": [
        "value = None\n",
        "print (value)"
      ],
      "metadata": {
        "colab": {
          "base_uri": "https://localhost:8080/"
        },
        "id": "5wNGGhon7Tz-",
        "outputId": "20593c5c-3af7-4bb2-8f7b-7889f7bb6922"
      },
      "execution_count": null,
      "outputs": [
        {
          "output_type": "stream",
          "name": "stdout",
          "text": [
            "None\n"
          ]
        }
      ]
    },
    {
      "cell_type": "code",
      "source": [
        "type (value)"
      ],
      "metadata": {
        "colab": {
          "base_uri": "https://localhost:8080/"
        },
        "id": "9FagzQHx7lca",
        "outputId": "0b10999f-74f0-4109-a8c2-3bbbbcc59972"
      },
      "execution_count": null,
      "outputs": [
        {
          "output_type": "execute_result",
          "data": {
            "text/plain": [
              "NoneType"
            ]
          },
          "metadata": {},
          "execution_count": 28
        }
      ]
    },
    {
      "cell_type": "code",
      "source": [
        "value = 5\n",
        "value2 = -6\n",
        "print (value,value2)"
      ],
      "metadata": {
        "colab": {
          "base_uri": "https://localhost:8080/"
        },
        "id": "g6Z8up5l7u5U",
        "outputId": "274453f3-882a-41b6-d899-4b9547aeb323"
      },
      "execution_count": null,
      "outputs": [
        {
          "output_type": "stream",
          "name": "stdout",
          "text": [
            "5 -6\n"
          ]
        }
      ]
    },
    {
      "cell_type": "code",
      "source": [
        "type (value)\n",
        "type (value2)"
      ],
      "metadata": {
        "colab": {
          "base_uri": "https://localhost:8080/"
        },
        "id": "g7gd-bXT8MJa",
        "outputId": "29ff9088-3cdc-420c-c71d-6e8800c29f52"
      },
      "execution_count": null,
      "outputs": [
        {
          "output_type": "execute_result",
          "data": {
            "text/plain": [
              "int"
            ]
          },
          "metadata": {},
          "execution_count": 31
        }
      ]
    },
    {
      "cell_type": "markdown",
      "source": [
        "**Performing Operations with Python**"
      ],
      "metadata": {
        "id": "2Z6Ok3-_8SlX"
      }
    },
    {
      "cell_type": "code",
      "source": [
        "value, value2 = 5, 6\n",
        "print (value+value2)"
      ],
      "metadata": {
        "colab": {
          "base_uri": "https://localhost:8080/"
        },
        "id": "UFemlmL28YYn",
        "outputId": "45e32c0b-0ba0-4b21-8ae2-842ac2fc1cca"
      },
      "execution_count": null,
      "outputs": [
        {
          "output_type": "stream",
          "name": "stdout",
          "text": [
            "11\n"
          ]
        }
      ]
    },
    {
      "cell_type": "code",
      "source": [
        "value, value2 =-5, 6.1\n",
        "print (value+value2)"
      ],
      "metadata": {
        "colab": {
          "base_uri": "https://localhost:8080/"
        },
        "id": "Rn-7bOcE9VTl",
        "outputId": "5c343445-4739-45d3-9090-6987a7e497da"
      },
      "execution_count": null,
      "outputs": [
        {
          "output_type": "stream",
          "name": "stdout",
          "text": [
            "1.0999999999999996\n"
          ]
        }
      ]
    },
    {
      "cell_type": "code",
      "source": [
        "value, value2 = \"Hello\", \" World\"\n",
        "print (value+value2)"
      ],
      "metadata": {
        "colab": {
          "base_uri": "https://localhost:8080/"
        },
        "id": "OQPj36Wb9hww",
        "outputId": "7fe26995-20be-4857-c1fb-4fc4e46c748d"
      },
      "execution_count": null,
      "outputs": [
        {
          "output_type": "stream",
          "name": "stdout",
          "text": [
            "Hello World\n"
          ]
        }
      ]
    },
    {
      "cell_type": "code",
      "source": [
        "value, value2 = [1,2,3], [4,5,6]\n",
        "print (value+value2)"
      ],
      "metadata": {
        "colab": {
          "base_uri": "https://localhost:8080/"
        },
        "id": "x4L4ZZLK-NH8",
        "outputId": "2fc2d87a-53c0-4061-9640-2048bf94ea7b"
      },
      "execution_count": null,
      "outputs": [
        {
          "output_type": "stream",
          "name": "stdout",
          "text": [
            "[1, 2, 3, 4, 5, 6]\n"
          ]
        }
      ]
    },
    {
      "cell_type": "code",
      "source": [
        "value, value2 = (1,2,3), (4,5,6)\n",
        "print (value+value2)"
      ],
      "metadata": {
        "colab": {
          "base_uri": "https://localhost:8080/"
        },
        "id": "7usvfyLm-jSL",
        "outputId": "cf17c7ce-c8eb-4377-e8b0-5d83ac97aa90"
      },
      "execution_count": null,
      "outputs": [
        {
          "output_type": "stream",
          "name": "stdout",
          "text": [
            "(1, 2, 3, 4, 5, 6)\n"
          ]
        }
      ]
    },
    {
      "cell_type": "code",
      "source": [
        "value, value2 = {\"name\":\"Cy\"}, {\"age\":\"19\"}\n",
        "print (value, value2)"
      ],
      "metadata": {
        "colab": {
          "base_uri": "https://localhost:8080/"
        },
        "id": "Q7a9RnWn_1dr",
        "outputId": "83eb8b39-dcaa-4864-ecf3-15a2ab67a58d"
      },
      "execution_count": null,
      "outputs": [
        {
          "output_type": "stream",
          "name": "stdout",
          "text": [
            "{'name': 'Cy'} {'age': '19'}\n"
          ]
        }
      ]
    },
    {
      "cell_type": "code",
      "source": [
        "value, value2 = 5, 6\n",
        "print (value-value2)"
      ],
      "metadata": {
        "colab": {
          "base_uri": "https://localhost:8080/"
        },
        "id": "GALBM_rS_3Ll",
        "outputId": "96e4ff2b-d7d7-46aa-aa21-2d6658a5f3cb"
      },
      "execution_count": null,
      "outputs": [
        {
          "output_type": "stream",
          "name": "stdout",
          "text": [
            "-1\n"
          ]
        }
      ]
    },
    {
      "cell_type": "code",
      "source": [
        "value, value2 =-5, 6.1\n",
        "print (value-value2)"
      ],
      "metadata": {
        "colab": {
          "base_uri": "https://localhost:8080/"
        },
        "id": "3OD89q9gAlp_",
        "outputId": "d018beb3-138d-4613-c33e-00f2e16e3de6"
      },
      "execution_count": null,
      "outputs": [
        {
          "output_type": "stream",
          "name": "stdout",
          "text": [
            "-11.1\n"
          ]
        }
      ]
    },
    {
      "cell_type": "code",
      "source": [
        "value, value2 = 30, 4\n",
        "print(value*value2)"
      ],
      "metadata": {
        "colab": {
          "base_uri": "https://localhost:8080/"
        },
        "id": "4sW6aQEtAu6B",
        "outputId": "1c9b849c-6089-41da-e5d9-c71b0a0cc962"
      },
      "execution_count": null,
      "outputs": [
        {
          "output_type": "stream",
          "name": "stdout",
          "text": [
            "120\n"
          ]
        }
      ]
    },
    {
      "cell_type": "code",
      "source": [
        "value, value2 = 30, 4\n",
        "print(value2**2)"
      ],
      "metadata": {
        "colab": {
          "base_uri": "https://localhost:8080/"
        },
        "id": "FHfnSN2pBX37",
        "outputId": "3adb0180-418a-4053-ab95-170d75a405a3"
      },
      "execution_count": null,
      "outputs": [
        {
          "output_type": "stream",
          "name": "stdout",
          "text": [
            "16\n"
          ]
        }
      ]
    },
    {
      "cell_type": "code",
      "source": [
        "value, value2 = 30, 4\n",
        "print(value2**3)"
      ],
      "metadata": {
        "colab": {
          "base_uri": "https://localhost:8080/"
        },
        "id": "vArELlV5Bg-l",
        "outputId": "2d7e69cf-aa50-4c1e-8db1-490fa620d56f"
      },
      "execution_count": null,
      "outputs": [
        {
          "output_type": "stream",
          "name": "stdout",
          "text": [
            "64\n"
          ]
        }
      ]
    },
    {
      "cell_type": "code",
      "source": [
        "value, value2 = 30, 4\n",
        "print(value*value2+value2**2+1)"
      ],
      "metadata": {
        "colab": {
          "base_uri": "https://localhost:8080/"
        },
        "id": "FjAN_X7gBpi5",
        "outputId": "1d6e8756-73db-4f90-bef0-a5a2f0c431a2"
      },
      "execution_count": null,
      "outputs": [
        {
          "output_type": "stream",
          "name": "stdout",
          "text": [
            "137\n"
          ]
        }
      ]
    },
    {
      "cell_type": "code",
      "source": [
        "value, value2 = 30, 4\n",
        "print(value/value2)"
      ],
      "metadata": {
        "colab": {
          "base_uri": "https://localhost:8080/"
        },
        "id": "gekG-lVgB5X5",
        "outputId": "eceed84e-3f9f-4861-ee49-80e0a33cba96"
      },
      "execution_count": null,
      "outputs": [
        {
          "output_type": "stream",
          "name": "stdout",
          "text": [
            "7.5\n"
          ]
        }
      ]
    },
    {
      "cell_type": "code",
      "source": [
        "value, value2 = 30, 4\n",
        "print(value%value2)"
      ],
      "metadata": {
        "id": "AQfXpDpmDv9I",
        "colab": {
          "base_uri": "https://localhost:8080/"
        },
        "outputId": "1c1fc6db-12ba-4efa-8f37-7af1728666b8"
      },
      "execution_count": null,
      "outputs": [
        {
          "output_type": "stream",
          "name": "stdout",
          "text": [
            "2\n"
          ]
        }
      ]
    },
    {
      "cell_type": "markdown",
      "source": [
        "**Receiving Input Data using Python**"
      ],
      "metadata": {
        "id": "mgSZAoqdGSg_"
      }
    },
    {
      "cell_type": "code",
      "source": [
        "name = input(\"Enter your name: \")\n",
        "weight = float(input(\"Enter your weight (kg): \"))\n",
        "height = float(input(\"Enter your height (m): \"))\n",
        "bmi = weight/height**2\n",
        "\n",
        "print(\"Name: \", name)\n",
        "print(\"Weight: \", weight, \"kg\")\n",
        "print(\"height: \", height, \"m\")\n",
        "print(\"BMI: \", round(bmi, 4), \"kg/m²\")\n",
        "\n",
        "feet = (height * 3.2808399)\n",
        "print (\"Guide: \", round(feet, 1), \"feet ~\", height, \"m\")"
      ],
      "metadata": {
        "colab": {
          "base_uri": "https://localhost:8080/"
        },
        "id": "5nHgMPBMbHGN",
        "outputId": "63f7943d-017c-4e9a-c655-ba289b448ab4"
      },
      "execution_count": 125,
      "outputs": [
        {
          "output_type": "stream",
          "name": "stdout",
          "text": [
            "Enter your name: Cy\n",
            "Enter your weight (kg): 55\n",
            "Enter your height (m): 1.64\n",
            "Name:  Cy\n",
            "Weight:  55.0 kg\n",
            "height:  1.64 m\n",
            "BMI:  20.4491 kg/m²\n",
            "Guide:  5.4 feet ~ 1.64 m\n"
          ]
        }
      ]
    },
    {
      "cell_type": "markdown",
      "source": [
        "**Supplementary Activity**"
      ],
      "metadata": {
        "id": "9-3SWNDIbyxk"
      }
    },
    {
      "cell_type": "markdown",
      "source": [
        "1. 1. Write the Python equivalent code of the following C code\n",
        "int main(){\n",
        "    \n",
        "float base = 0, height = 0, area = 0; printf(“Enter the base of the triangle: “); scanf(“%f”, &base);\n",
        "printf(“Enter the height of the triangle: “); scanf(“%f”, &height) ; area = (1/2)baseheigh t; print(“The area of the triangle is %f”, area);"
      ],
      "metadata": {
        "id": "rMsgPz0Af4w8"
      }
    },
    {
      "cell_type": "code",
      "source": [
        "#1.\n",
        "\n",
        "base = 0\n",
        "height = 0\n",
        "area = 0\n",
        "\n",
        "base = float(input(\"Enter the base of the triangle(m): \"))\n",
        "height = float(input(\"Enter the height of the triangle(m): \"))\n",
        "\n",
        "area = 1/2 * base * height\n",
        "print (\"The area of the triangle is: \", area, \"m²\")"
      ],
      "metadata": {
        "colab": {
          "base_uri": "https://localhost:8080/"
        },
        "id": "DVR1OCi9b0Tb",
        "outputId": "c1831d30-376f-45fa-a5fb-49adc0101f43"
      },
      "execution_count": 126,
      "outputs": [
        {
          "output_type": "stream",
          "name": "stdout",
          "text": [
            "Enter the base of the triangle(m): 5\n",
            "Enter the height of the triangle(m): 6\n",
            "The area of the triangle is:  15.0 m²\n"
          ]
        }
      ]
    },
    {
      "cell_type": "markdown",
      "source": [
        "2. Write a program that would convert Celsius to Farenheit given the formula: F = (C*9/5)+32"
      ],
      "metadata": {
        "id": "V77QtW80f-C8"
      }
    },
    {
      "cell_type": "code",
      "source": [
        "#2\n",
        "\n",
        "Celcius = float(input(\"Input temperature in celsius: \"))\n",
        "Farenheit = (Celcius * 9/5) + 32\n",
        "print(\"Temperature in Farenheit: \", Farenheit, \"°F\")"
      ],
      "metadata": {
        "colab": {
          "base_uri": "https://localhost:8080/"
        },
        "id": "w87hxxmvdBII",
        "outputId": "e91bbc2f-af50-4f5a-af83-12d3e345c111"
      },
      "execution_count": 124,
      "outputs": [
        {
          "output_type": "stream",
          "name": "stdout",
          "text": [
            "Input temperature in celsius: 100\n",
            "Temperature in Farenheit:  212.0 °F\n"
          ]
        }
      ]
    },
    {
      "cell_type": "markdown",
      "source": [
        "3. Write a program that can determine the distance between two points given the coordinates using the formula:\n",
        "𝒅 = √(𝒙𝟐 − 𝒙𝟏)𝟐 + (𝒚𝟐 − 𝒚𝟏)𝟐"
      ],
      "metadata": {
        "id": "6CuC2BjCgB3V"
      }
    },
    {
      "cell_type": "code",
      "source": [
        "#3\n",
        "\n",
        "print (\"Enter the values for: \")\n",
        "x1 = float(input(\"Input x1: \"))\n",
        "y1 = float(input(\"Input y1: \"))\n",
        "x2 = float(input(\"Input x2: \"))\n",
        "y2 = float(input(\"Input y2: \"))\n",
        "d = ((x2 - x1)**2 + (y2 - y1)**2)**1/2\n",
        "\n",
        "print (\"d = √(\", x2, \"-\", x1, \")²+(\", y2, \"-\", y1, \")²\")\n",
        "print (\"d = \", round(d, 4))\n",
        "print(\"The distance between the two points is:\", round(d, 4))"
      ],
      "metadata": {
        "colab": {
          "base_uri": "https://localhost:8080/"
        },
        "id": "67K4zQ4VdfYb",
        "outputId": "96809d2b-bdad-4399-b449-b8cff3b59873"
      },
      "execution_count": 128,
      "outputs": [
        {
          "output_type": "stream",
          "name": "stdout",
          "text": [
            "Enter the values for: \n",
            "Input x1: 36\n",
            "Input y1: 12\n",
            "Input x2: -64\n",
            "Input y2: -43\n",
            "d = √( -64.0 - 36.0 )²+( -43.0 - 12.0 )²\n",
            "d =  6512.5\n",
            "The distance between the two points is: 6512.5\n"
          ]
        }
      ]
    }
  ]
}